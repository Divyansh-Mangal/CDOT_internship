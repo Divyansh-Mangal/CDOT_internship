{
 "cells": [
  {
   "cell_type": "markdown",
   "id": "89c951f3",
   "metadata": {},
   "source": [
    "# Efficient settings finder -\n",
    "For efficienctly finding settings for lambda (temperature control) and current controls for matching of Bob's and Alice's lasers for MDI-QKD in the macro-frequency range (higher than 500MHz which is the sensitivity range for the FPGA). The assumption is that either Bob's of Alice's laser frequency is held constant while the other's parameters are tuned to match the frequency of the first one.\n",
    "\n",
    "Note: This code implementation is based on assumption of linearity of response of frequency of the laser with respect to parameters (lambda and current). This assumption is based on the preliminary data collected on 24th May, 2023 for characterizing the laser freq. response wrt both parameters. \n",
    "In case linearity assumption does not hold, then there needs to a better determination of response function and more sofisticated algorithms (gradient descent etc.) would be required. \n",
    "\n",
    "Note 2: If liniarity holds for power of the laser as well wrt these parameter changes, the same algorithm can be used to find the effiecient parameter guess for it as well. Then, overlapping regions of effieicnt parameter choice can be used to both frequency and power of the two lasers.\n",
    "\n",
    "Note 3: This implementation assumes that the data is fed manually, but in case of automated frequncy readers, this algorith could be easily adopted for the automated version."
   ]
  },
  {
   "cell_type": "code",
   "execution_count": 4,
   "id": "cce2c821",
   "metadata": {},
   "outputs": [],
   "source": [
    "#imports\n",
    "import numpy as np\n",
    "from pprint import pprint\n",
    "from itertools import permutations"
   ]
  },
  {
   "cell_type": "code",
   "execution_count": 5,
   "id": "df60161e",
   "metadata": {},
   "outputs": [],
   "source": [
    "def get_input_values(max_lambda,min_lambda, max_current, min_current):\n",
    "    mm = float(input(f'Frequency value at min_lambda = {min_lambda}, min_current = {min_current}:'))\n",
    "    Mm = float(input(f'Frequency value at max_lambda = {max_lambda}, min_current = {min_current}:'))\n",
    "    mM = float(input(f'Frequency value at min_lambda = {min_lambda}, max_current = {max_current}:'))\n",
    "    MM = float(input(f'Frequency value at max_lambda = {max_lambda}, max_current = {max_current}:'))\n",
    "    \n",
    "    return (mm,Mm,mM,MM)"
   ]
  },
  {
   "cell_type": "code",
   "execution_count": 6,
   "id": "8f038c3c",
   "metadata": {},
   "outputs": [
    {
     "name": "stdout",
     "output_type": "stream",
     "text": [
      "Frequency value at min_lambda = -500, min_current = 500:1550.121\n",
      "Frequency value at max_lambda = 500, min_current = 500:1550.076\n",
      "Frequency value at min_lambda = -500, max_current = 1600:1550.155\n",
      "Frequency value at max_lambda = 500, max_current = 1600:1550.131\n",
      "\n",
      "Try point (lambda = 311.1111111108304, current = 670.0000000003307) for matching frequency. \n",
      "It is suggested to try nearby points of the suggested points as well, or use gradient descent near this point to find the optimal point.\n"
     ]
    }
   ],
   "source": [
    "def estimate_macro_frequency_parameters(match_freq, max_lambda, min_lambda, max_current, min_current):\n",
    "    (mm,Mm,mM,MM) = get_input_values(max_lambda,min_lambda, max_current, min_current)\n",
    "    \n",
    "    p1 = np.array([min_lambda, min_current, mm])\n",
    "    p2 = np.array([max_lambda, min_current, Mm])\n",
    "    p3 = np.array([max_lambda, max_current, MM])\n",
    "    p4 = np.array([min_lambda, max_current, mM]) \n",
    "    \n",
    "    points = []\n",
    "    \n",
    "    for perm in permutations((p1,p2,p3,p4),2):\n",
    "        if perm[0][2]<=match_freq<=perm[1][2]:\n",
    "            lengthx = abs(perm[0][0] - perm[1][0])\n",
    "            lengthy = abs(perm[0][1] - perm[1][1])\n",
    "            \n",
    "            if (lengthx**2+lengthy**2)<=max((max_lambda-min_lambda)**2,(max_current-min_current)**2): \n",
    "                slope = (match_freq-perm[0][2])/(perm[1][2]-perm[0][2])\n",
    "                xp = perm[0][0]+slope*(perm[1][0]-perm[0][0])\n",
    "                yp = perm[0][1]+slope*(perm[1][1]-perm[0][1])\n",
    "                points.append(np.array([xp,yp,match_freq]))\n",
    "                \n",
    "    if len(points)<=0:\n",
    "        raise ValueError(\"Matching frequency is outside the parameter boundaries. It is suggested to change them.\")\n",
    "    \n",
    "    return sum(points)/len(points)\n",
    "\n",
    "\n",
    "# Example - \n",
    "match_freq = 1550.093\n",
    "\n",
    "max_lambda = 500\n",
    "min_lambda = -500\n",
    "max_current = 1600\n",
    "min_current = 500\n",
    "\n",
    "estimate = estimate_macro_frequency_parameters(match_freq, max_lambda,min_lambda, max_current, min_current)\n",
    "\n",
    "print(f\"\\nTry point (lambda = {estimate[0]}, current = {estimate[1]}) for matching frequency. \\nIt is suggested to try nearby points of the suggested points as well, or use gradient descent near this point to find the optimal point.\")"
   ]
  },
  {
   "cell_type": "code",
   "execution_count": null,
   "id": "140c5430",
   "metadata": {},
   "outputs": [],
   "source": []
  }
 ],
 "metadata": {
  "kernelspec": {
   "display_name": "Python 3 (ipykernel)",
   "language": "python",
   "name": "python3"
  },
  "language_info": {
   "codemirror_mode": {
    "name": "ipython",
    "version": 3
   },
   "file_extension": ".py",
   "mimetype": "text/x-python",
   "name": "python",
   "nbconvert_exporter": "python",
   "pygments_lexer": "ipython3",
   "version": "3.9.7"
  }
 },
 "nbformat": 4,
 "nbformat_minor": 5
}
